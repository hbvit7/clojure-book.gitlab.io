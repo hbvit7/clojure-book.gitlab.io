{
 "cells": [
  {
   "cell_type": "markdown",
   "id": "several-regression",
   "metadata": {},
   "source": [
    "# Vectors"
   ]
  },
  {
   "cell_type": "code",
   "execution_count": 2,
   "id": "amazing-demand",
   "metadata": {},
   "outputs": [
    {
     "data": {
      "text/plain": [
       "[1 2 3 4]"
      ]
     },
     "execution_count": 2,
     "metadata": {},
     "output_type": "execute_result"
    }
   ],
   "source": [
    "[1 2 3 4] ; a very simple vector "
   ]
  },
  {
   "cell_type": "code",
   "execution_count": 36,
   "id": "finite-castle",
   "metadata": {},
   "outputs": [
    {
     "data": {
      "text/plain": [
       "[1 2 3]"
      ]
     },
     "execution_count": 36,
     "metadata": {},
     "output_type": "execute_result"
    }
   ],
   "source": [
    "(vector 1 2 3)"
   ]
  },
  {
   "cell_type": "code",
   "execution_count": 3,
   "id": "polish-gather",
   "metadata": {},
   "outputs": [
    {
     "data": {
      "text/plain": [
       "[1 true \"Bashir\"]"
      ]
     },
     "execution_count": 3,
     "metadata": {},
     "output_type": "execute_result"
    }
   ],
   "source": [
    "[1 true \"Bashir\"] ; vector containing multiple data types"
   ]
  },
  {
   "cell_type": "code",
   "execution_count": 4,
   "id": "rubber-webcam",
   "metadata": {},
   "outputs": [
    {
     "data": {
      "text/plain": [
       "#'user/friends"
      ]
     },
     "execution_count": 4,
     "metadata": {},
     "output_type": "execute_result"
    }
   ],
   "source": [
    "(def friends\n",
    "    [\"Ram\" \"Bashir\" \"Antony\" \"Buddha\"])"
   ]
  },
  {
   "cell_type": "code",
   "execution_count": 5,
   "id": "tough-crash",
   "metadata": {},
   "outputs": [
    {
     "data": {
      "text/plain": [
       "\"Ram\""
      ]
     },
     "execution_count": 5,
     "metadata": {},
     "output_type": "execute_result"
    }
   ],
   "source": [
    "(first friends)"
   ]
  },
  {
   "cell_type": "code",
   "execution_count": 6,
   "id": "descending-minority",
   "metadata": {},
   "outputs": [
    {
     "data": {
      "text/plain": [
       "(\"Bashir\" \"Antony\" \"Buddha\")"
      ]
     },
     "execution_count": 6,
     "metadata": {},
     "output_type": "execute_result"
    }
   ],
   "source": [
    "(rest friends)"
   ]
  },
  {
   "cell_type": "code",
   "execution_count": 8,
   "id": "selected-distinction",
   "metadata": {},
   "outputs": [
    {
     "data": {
      "text/plain": [
       "clojure.lang.PersistentVector"
      ]
     },
     "execution_count": 8,
     "metadata": {},
     "output_type": "execute_result"
    }
   ],
   "source": [
    "(type friends)"
   ]
  },
  {
   "cell_type": "code",
   "execution_count": 9,
   "id": "configured-necessity",
   "metadata": {},
   "outputs": [
    {
     "data": {
      "text/plain": [
       "clojure.lang.PersistentVector$ChunkedSeq"
      ]
     },
     "execution_count": 9,
     "metadata": {},
     "output_type": "execute_result"
    }
   ],
   "source": [
    "(type (rest friends))"
   ]
  },
  {
   "cell_type": "code",
   "execution_count": 10,
   "id": "floating-baseball",
   "metadata": {},
   "outputs": [
    {
     "data": {
      "text/plain": [
       "\"Buddha\""
      ]
     },
     "execution_count": 10,
     "metadata": {},
     "output_type": "execute_result"
    }
   ],
   "source": [
    "(nth friends 3)"
   ]
  },
  {
   "cell_type": "code",
   "execution_count": 11,
   "id": "appropriate-intake",
   "metadata": {},
   "outputs": [
    {
     "data": {
      "text/plain": [
       "\"Buddha\""
      ]
     },
     "execution_count": 11,
     "metadata": {},
     "output_type": "execute_result"
    }
   ],
   "source": [
    "(friends 3)"
   ]
  },
  {
   "cell_type": "code",
   "execution_count": 19,
   "id": "framed-strategy",
   "metadata": {},
   "outputs": [
    {
     "data": {
      "text/plain": [
       "[\"Ram\" \"Bashir\" \"Antony\" \"Buddha\" \"Periyaar\"]"
      ]
     },
     "execution_count": 19,
     "metadata": {},
     "output_type": "execute_result"
    }
   ],
   "source": [
    "(conj friends \"Periyaar\")"
   ]
  },
  {
   "cell_type": "code",
   "execution_count": 20,
   "id": "seasonal-chance",
   "metadata": {},
   "outputs": [
    {
     "name": "stdout",
     "output_type": "stream",
     "text": [
      "[Ram Bashir Antony Buddha]\n"
     ]
    },
    {
     "data": {
      "text/plain": [
       "nil"
      ]
     },
     "execution_count": 20,
     "metadata": {},
     "output_type": "execute_result"
    }
   ],
   "source": [
    "(println friends)"
   ]
  },
  {
   "cell_type": "code",
   "execution_count": 33,
   "id": "seventh-secret",
   "metadata": {},
   "outputs": [
    {
     "data": {
      "text/plain": [
       "(\"Periyaar\" \"Ram\" \"Bashir\" \"Antony\" \"Buddha\")"
      ]
     },
     "execution_count": 33,
     "metadata": {},
     "output_type": "execute_result"
    }
   ],
   "source": [
    "(cons \"Periyaar\" friends)"
   ]
  },
  {
   "cell_type": "markdown",
   "id": "correct-leonard",
   "metadata": {},
   "source": [
    "# Lists"
   ]
  },
  {
   "cell_type": "code",
   "execution_count": 23,
   "id": "australian-shoulder",
   "metadata": {},
   "outputs": [
    {
     "data": {
      "text/plain": [
       "(1 2 3 4)"
      ]
     },
     "execution_count": 23,
     "metadata": {},
     "output_type": "execute_result"
    }
   ],
   "source": [
    "'(1 2 3 4)"
   ]
  },
  {
   "cell_type": "code",
   "execution_count": 37,
   "id": "tested-crystal",
   "metadata": {},
   "outputs": [
    {
     "data": {
      "text/plain": [
       "(1 2 3)"
      ]
     },
     "execution_count": 37,
     "metadata": {},
     "output_type": "execute_result"
    }
   ],
   "source": [
    "(list 1 2 3)"
   ]
  },
  {
   "cell_type": "code",
   "execution_count": 24,
   "id": "defined-wrist",
   "metadata": {},
   "outputs": [
    {
     "data": {
      "text/plain": [
       "(1 2 3)"
      ]
     },
     "execution_count": 24,
     "metadata": {},
     "output_type": "execute_result"
    }
   ],
   "source": [
    "(list 1 2 3)"
   ]
  },
  {
   "cell_type": "code",
   "execution_count": 25,
   "id": "colonial-night",
   "metadata": {},
   "outputs": [
    {
     "data": {
      "text/plain": [
       "#'user/friends-list"
      ]
     },
     "execution_count": 25,
     "metadata": {},
     "output_type": "execute_result"
    }
   ],
   "source": [
    "(def friends-list\n",
    "    '(\"Ram\" \"Bashir\" \"Antony\" \"Buddha\"))"
   ]
  },
  {
   "cell_type": "code",
   "execution_count": 26,
   "id": "strategic-network",
   "metadata": {},
   "outputs": [
    {
     "data": {
      "text/plain": [
       "4"
      ]
     },
     "execution_count": 26,
     "metadata": {},
     "output_type": "execute_result"
    }
   ],
   "source": [
    "(count friends-list)"
   ]
  },
  {
   "cell_type": "code",
   "execution_count": 27,
   "id": "related-premises",
   "metadata": {},
   "outputs": [
    {
     "data": {
      "text/plain": [
       "\"Ram\""
      ]
     },
     "execution_count": 27,
     "metadata": {},
     "output_type": "execute_result"
    }
   ],
   "source": [
    "(first friends-list)"
   ]
  },
  {
   "cell_type": "code",
   "execution_count": 28,
   "id": "going-lounge",
   "metadata": {},
   "outputs": [
    {
     "data": {
      "text/plain": [
       "(\"Bashir\" \"Antony\" \"Buddha\")"
      ]
     },
     "execution_count": 28,
     "metadata": {},
     "output_type": "execute_result"
    }
   ],
   "source": [
    "(rest friends-list)"
   ]
  },
  {
   "cell_type": "code",
   "execution_count": 29,
   "id": "unlimited-foster",
   "metadata": {},
   "outputs": [
    {
     "data": {
      "text/plain": [
       "\"Buddha\""
      ]
     },
     "execution_count": 29,
     "metadata": {},
     "output_type": "execute_result"
    }
   ],
   "source": [
    "(nth friends-list 3)"
   ]
  },
  {
   "cell_type": "code",
   "execution_count": 30,
   "id": "dramatic-judge",
   "metadata": {},
   "outputs": [
    {
     "name": "stderr",
     "output_type": "stream",
     "text": [
      "Execution error (ClassCastException) at user/eval5554 (REPL:1).\n",
      "clojure.lang.PersistentList cannot be cast to clojure.lang.IFn\n"
     ]
    },
    {
     "ename": "class java.lang.ClassCastException",
     "evalue": "",
     "execution_count": 30,
     "output_type": "error",
     "status": "error",
     "traceback": [
      "   core.clj:  3214 clojure.core$eval/invokeStatic",
      "   core.clj:  3210 clojure.core$eval/invoke",
      "   main.clj:   437 clojure.main$repl$read_eval_print__9086$fn__9089/invoke",
      "   main.clj:   458 clojure.main$repl$fn__9095/invoke",
      "   main.clj:   368 clojure.main$repl/doInvoke",
      "RestFn.java:  1523 clojure.lang.RestFn/invoke",
      "   AFn.java:    22 clojure.lang.AFn/run",
      "   AFn.java:    22 clojure.lang.AFn/run",
      "Thread.java:   745 java.lang.Thread/run"
     ]
    }
   ],
   "source": [
    "(friends-list 3)"
   ]
  },
  {
   "cell_type": "code",
   "execution_count": 32,
   "id": "sacred-eleven",
   "metadata": {},
   "outputs": [
    {
     "data": {
      "text/plain": [
       "(\"Periyaar\" \"Ram\" \"Bashir\" \"Antony\" \"Buddha\")"
      ]
     },
     "execution_count": 32,
     "metadata": {},
     "output_type": "execute_result"
    }
   ],
   "source": [
    "(conj friends-list \"Periyaar\")"
   ]
  },
  {
   "cell_type": "markdown",
   "id": "electric-contemporary",
   "metadata": {},
   "source": [
    "# Map"
   ]
  },
  {
   "cell_type": "code",
   "execution_count": 39,
   "id": "comprehensive-anthony",
   "metadata": {},
   "outputs": [
    {
     "data": {
      "text/plain": [
       "{\"name\" \"Bashir\", \"age\" 12}"
      ]
     },
     "execution_count": 39,
     "metadata": {},
     "output_type": "execute_result"
    }
   ],
   "source": [
    "{ \"name\" \"Bashir\" \"age\" 12 }"
   ]
  },
  {
   "cell_type": "code",
   "execution_count": 40,
   "id": "promotional-fitting",
   "metadata": {},
   "outputs": [
    {
     "data": {
      "text/plain": [
       "{\"age\" 20, \"name\" \"Bashir\"}"
      ]
     },
     "execution_count": 40,
     "metadata": {},
     "output_type": "execute_result"
    }
   ],
   "source": [
    "(hash-map \"name\" \"Bashir\"\n",
    "          \"age\" 20)"
   ]
  },
  {
   "cell_type": "code",
   "execution_count": 41,
   "id": "extended-rhythm",
   "metadata": {},
   "outputs": [
    {
     "data": {
      "text/plain": [
       "#'user/friend"
      ]
     },
     "execution_count": 41,
     "metadata": {},
     "output_type": "execute_result"
    }
   ],
   "source": [
    "(def friend { \"name\" \"Bashir\" \"age\" 12 })"
   ]
  },
  {
   "cell_type": "code",
   "execution_count": 42,
   "id": "closing-jerusalem",
   "metadata": {},
   "outputs": [
    {
     "data": {
      "text/plain": [
       "\"Bashir\""
      ]
     },
     "execution_count": 42,
     "metadata": {},
     "output_type": "execute_result"
    }
   ],
   "source": [
    "(get friend \"name\")"
   ]
  },
  {
   "cell_type": "code",
   "execution_count": 43,
   "id": "solved-court",
   "metadata": {},
   "outputs": [
    {
     "data": {
      "text/plain": [
       "\"Bashir\""
      ]
     },
     "execution_count": 43,
     "metadata": {},
     "output_type": "execute_result"
    }
   ],
   "source": [
    "(friend \"name\")"
   ]
  },
  {
   "cell_type": "code",
   "execution_count": 44,
   "id": "paperback-address",
   "metadata": {},
   "outputs": [
    {
     "data": {
      "text/plain": [
       "java.lang.String"
      ]
     },
     "execution_count": 44,
     "metadata": {},
     "output_type": "execute_result"
    }
   ],
   "source": [
    "(type \"name\")"
   ]
  },
  {
   "cell_type": "code",
   "execution_count": 45,
   "id": "stuck-lincoln",
   "metadata": {},
   "outputs": [
    {
     "data": {
      "text/plain": [
       "clojure.lang.Keyword"
      ]
     },
     "execution_count": 45,
     "metadata": {},
     "output_type": "execute_result"
    }
   ],
   "source": [
    "(type :name)"
   ]
  },
  {
   "cell_type": "code",
   "execution_count": 47,
   "id": "considered-recovery",
   "metadata": {},
   "outputs": [
    {
     "data": {
      "text/plain": [
       "#'user/wise-friend"
      ]
     },
     "execution_count": 47,
     "metadata": {},
     "output_type": "execute_result"
    }
   ],
   "source": [
    "(def wise-friend {:name \"Periyaar\"\n",
    "                  :age 90})"
   ]
  },
  {
   "cell_type": "code",
   "execution_count": 48,
   "id": "known-myrtle",
   "metadata": {},
   "outputs": [
    {
     "data": {
      "text/plain": [
       "\"Periyaar\""
      ]
     },
     "execution_count": 48,
     "metadata": {},
     "output_type": "execute_result"
    }
   ],
   "source": [
    "(wise-friend :name)"
   ]
  },
  {
   "cell_type": "code",
   "execution_count": 49,
   "id": "auburn-saskatchewan",
   "metadata": {},
   "outputs": [
    {
     "data": {
      "text/plain": [
       "90"
      ]
     },
     "execution_count": 49,
     "metadata": {},
     "output_type": "execute_result"
    }
   ],
   "source": [
    "(get wise-friend :age)"
   ]
  },
  {
   "cell_type": "code",
   "execution_count": 55,
   "id": "twenty-cabinet",
   "metadata": {},
   "outputs": [
    {
     "name": "stdout",
     "output_type": "stream",
     "text": [
      "Periyaar is very wise."
     ]
    },
    {
     "data": {
      "text/plain": [
       "nil"
      ]
     },
     "execution_count": 55,
     "metadata": {},
     "output_type": "execute_result"
    }
   ],
   "source": [
    "(print (wise-friend :name)\n",
    "       \"is very wise.\")"
   ]
  },
  {
   "cell_type": "code",
   "execution_count": 56,
   "id": "impressed-improvement",
   "metadata": {},
   "outputs": [
    {
     "data": {
      "text/plain": [
       "{:name \"Periyaar\", :age 90, :belief \"Rationalism\"}"
      ]
     },
     "execution_count": 56,
     "metadata": {},
     "output_type": "execute_result"
    }
   ],
   "source": [
    "(assoc wise-friend :belief \"Rationalism\")"
   ]
  },
  {
   "cell_type": "code",
   "execution_count": 57,
   "id": "optical-shepherd",
   "metadata": {},
   "outputs": [
    {
     "data": {
      "text/plain": [
       "nil"
      ]
     },
     "execution_count": 57,
     "metadata": {},
     "output_type": "execute_result"
    }
   ],
   "source": [
    "(wise-friend :belief)"
   ]
  },
  {
   "cell_type": "code",
   "execution_count": 59,
   "id": "increased-uncertainty",
   "metadata": {},
   "outputs": [
    {
     "data": {
      "text/plain": [
       "90"
      ]
     },
     "execution_count": 59,
     "metadata": {},
     "output_type": "execute_result"
    }
   ],
   "source": [
    "(wise-friend :age)"
   ]
  },
  {
   "cell_type": "code",
   "execution_count": 60,
   "id": "fifteen-comparison",
   "metadata": {},
   "outputs": [
    {
     "data": {
      "text/plain": [
       "{:name \"Periyaar\"}"
      ]
     },
     "execution_count": 60,
     "metadata": {},
     "output_type": "execute_result"
    }
   ],
   "source": [
    "(dissoc wise-friend :age)"
   ]
  },
  {
   "cell_type": "code",
   "execution_count": 61,
   "id": "established-subsection",
   "metadata": {},
   "outputs": [
    {
     "data": {
      "text/plain": [
       "(:name :age)"
      ]
     },
     "execution_count": 61,
     "metadata": {},
     "output_type": "execute_result"
    }
   ],
   "source": [
    "(keys wise-friend)"
   ]
  },
  {
   "cell_type": "code",
   "execution_count": 62,
   "id": "fluid-tokyo",
   "metadata": {},
   "outputs": [
    {
     "data": {
      "text/plain": [
       "(\"Periyaar\" 90)"
      ]
     },
     "execution_count": 62,
     "metadata": {},
     "output_type": "execute_result"
    }
   ],
   "source": [
    "(vals wise-friend)"
   ]
  },
  {
   "cell_type": "code",
   "execution_count": 82,
   "id": "overhead-kernel",
   "metadata": {},
   "outputs": [
    {
     "data": {
      "text/plain": [
       "{:name \"Periyaar\", :age 90, \"name\" \"Ramasamy\"}"
      ]
     },
     "execution_count": 82,
     "metadata": {},
     "output_type": "execute_result"
    }
   ],
   "source": [
    "(assoc wise-friend \"name\" \"Ramasamy\")"
   ]
  },
  {
   "cell_type": "markdown",
   "id": "talented-death",
   "metadata": {},
   "source": [
    "# Sets"
   ]
  },
  {
   "cell_type": "code",
   "execution_count": 63,
   "id": "large-format",
   "metadata": {},
   "outputs": [
    {
     "data": {
      "text/plain": [
       "#{1 4 3 2}"
      ]
     },
     "execution_count": 63,
     "metadata": {},
     "output_type": "execute_result"
    }
   ],
   "source": [
    "#{1 2 3 4}"
   ]
  },
  {
   "cell_type": "code",
   "execution_count": 64,
   "id": "solved-pixel",
   "metadata": {},
   "outputs": [
    {
     "data": {
      "text/plain": [
       "clojure.lang.PersistentHashSet"
      ]
     },
     "execution_count": 64,
     "metadata": {},
     "output_type": "execute_result"
    }
   ],
   "source": [
    "(type #{1 2 3 4})"
   ]
  },
  {
   "cell_type": "code",
   "execution_count": 65,
   "id": "abroad-ceiling",
   "metadata": {},
   "outputs": [
    {
     "name": "stderr",
     "output_type": "stream",
     "text": [
      "Syntax error reading source at (REPL:1:13).\n",
      "Duplicate key: 4\n"
     ]
    },
    {
     "ename": "class clojure.lang.ExceptionInfo",
     "evalue": "",
     "execution_count": 65,
     "output_type": "error",
     "status": "error",
     "traceback": [
      "PersistentHashSet.java:    68 clojure.lang.PersistentHashSet/createWithCheck",
      "       LispReader.java:  1366 clojure.lang.LispReader$SetReader/invoke",
      "       LispReader.java:   853 clojure.lang.LispReader$DispatchReader/invoke",
      "       LispReader.java:   285 clojure.lang.LispReader/read",
      "              core.clj:  3768 clojure.core$read/invokeStatic",
      "              core.clj:  3741 clojure.core$read/invoke",
      "              main.clj:   433 clojure.main$repl$read_eval_print__9086$fn__9087/invoke",
      "              main.clj:   432 clojure.main$repl$read_eval_print__9086/invoke",
      "              main.clj:   458 clojure.main$repl$fn__9095/invoke",
      "              main.clj:   368 clojure.main$repl/doInvoke",
      "           RestFn.java:  1523 clojure.lang.RestFn/invoke",
      "              AFn.java:    22 clojure.lang.AFn/run  ",
      "              AFn.java:    22 clojure.lang.AFn/run  ",
      "           Thread.java:   745 java.lang.Thread/run  "
     ]
    }
   ],
   "source": [
    "#{1 2 3 4 4}"
   ]
  },
  {
   "cell_type": "code",
   "execution_count": 66,
   "id": "sweet-paste",
   "metadata": {},
   "outputs": [
    {
     "data": {
      "text/plain": [
       "#{\"Mango\" \"Orange\" \"Apple\" \"Banana\"}"
      ]
     },
     "execution_count": 66,
     "metadata": {},
     "output_type": "execute_result"
    }
   ],
   "source": [
    "#{\"Apple\" \"Orange\" \"Mango\" \"Banana\"}"
   ]
  },
  {
   "cell_type": "code",
   "execution_count": 67,
   "id": "attempted-proposition",
   "metadata": {},
   "outputs": [
    {
     "name": "stderr",
     "output_type": "stream",
     "text": [
      "Syntax error reading source at (REPL:1:45).\n",
      "Duplicate key: Apple\n"
     ]
    },
    {
     "ename": "class clojure.lang.ExceptionInfo",
     "evalue": "",
     "execution_count": 67,
     "output_type": "error",
     "status": "error",
     "traceback": [
      "PersistentHashSet.java:    68 clojure.lang.PersistentHashSet/createWithCheck",
      "       LispReader.java:  1366 clojure.lang.LispReader$SetReader/invoke",
      "       LispReader.java:   853 clojure.lang.LispReader$DispatchReader/invoke",
      "       LispReader.java:   285 clojure.lang.LispReader/read",
      "              core.clj:  3768 clojure.core$read/invokeStatic",
      "              core.clj:  3741 clojure.core$read/invoke",
      "              main.clj:   433 clojure.main$repl$read_eval_print__9086$fn__9087/invoke",
      "              main.clj:   432 clojure.main$repl$read_eval_print__9086/invoke",
      "              main.clj:   458 clojure.main$repl$fn__9095/invoke",
      "              main.clj:   368 clojure.main$repl/doInvoke",
      "           RestFn.java:  1523 clojure.lang.RestFn/invoke",
      "              AFn.java:    22 clojure.lang.AFn/run  ",
      "              AFn.java:    22 clojure.lang.AFn/run  ",
      "           Thread.java:   745 java.lang.Thread/run  "
     ]
    }
   ],
   "source": [
    "#{\"Apple\" \"Orange\" \"Mango\" \"Banana\" \"Apple\"}"
   ]
  },
  {
   "cell_type": "code",
   "execution_count": 68,
   "id": "cutting-placement",
   "metadata": {},
   "outputs": [
    {
     "data": {
      "text/plain": [
       "#'user/fruits"
      ]
     },
     "execution_count": 68,
     "metadata": {},
     "output_type": "execute_result"
    }
   ],
   "source": [
    "(def fruits #{\"Apple\" \"Orange\" \"Mango\" \"Banana\"})"
   ]
  },
  {
   "cell_type": "code",
   "execution_count": 69,
   "id": "dress-negative",
   "metadata": {},
   "outputs": [
    {
     "data": {
      "text/plain": [
       "true"
      ]
     },
     "execution_count": 69,
     "metadata": {},
     "output_type": "execute_result"
    }
   ],
   "source": [
    "(contains? fruits \"Banana\")"
   ]
  },
  {
   "cell_type": "code",
   "execution_count": 70,
   "id": "choice-account",
   "metadata": {},
   "outputs": [
    {
     "data": {
      "text/plain": [
       "false"
      ]
     },
     "execution_count": 70,
     "metadata": {},
     "output_type": "execute_result"
    }
   ],
   "source": [
    "(contains? fruits \"Jack Fruit\")"
   ]
  },
  {
   "cell_type": "code",
   "execution_count": 71,
   "id": "needed-integer",
   "metadata": {},
   "outputs": [
    {
     "data": {
      "text/plain": [
       "\"Banana\""
      ]
     },
     "execution_count": 71,
     "metadata": {},
     "output_type": "execute_result"
    }
   ],
   "source": [
    "(fruits \"Banana\")"
   ]
  },
  {
   "cell_type": "code",
   "execution_count": 72,
   "id": "specialized-spanish",
   "metadata": {},
   "outputs": [
    {
     "data": {
      "text/plain": [
       "nil"
      ]
     },
     "execution_count": 72,
     "metadata": {},
     "output_type": "execute_result"
    }
   ],
   "source": [
    "(fruits \"Jack Fruit\")"
   ]
  },
  {
   "cell_type": "code",
   "execution_count": 73,
   "id": "aging-messenger",
   "metadata": {},
   "outputs": [
    {
     "name": "stderr",
     "output_type": "stream",
     "text": [
      "Execution error (ClassCastException) at user/eval5624 (REPL:1).\n",
      "java.lang.String cannot be cast to clojure.lang.IFn\n"
     ]
    },
    {
     "ename": "class java.lang.ClassCastException",
     "evalue": "",
     "execution_count": 73,
     "output_type": "error",
     "status": "error",
     "traceback": [
      "   core.clj:  3214 clojure.core$eval/invokeStatic",
      "   core.clj:  3210 clojure.core$eval/invoke",
      "   main.clj:   437 clojure.main$repl$read_eval_print__9086$fn__9089/invoke",
      "   main.clj:   458 clojure.main$repl$fn__9095/invoke",
      "   main.clj:   368 clojure.main$repl/doInvoke",
      "RestFn.java:  1523 clojure.lang.RestFn/invoke",
      "   AFn.java:    22 clojure.lang.AFn/run",
      "   AFn.java:    22 clojure.lang.AFn/run",
      "Thread.java:   745 java.lang.Thread/run"
     ]
    }
   ],
   "source": [
    "(\"Banana\" fruits)"
   ]
  },
  {
   "cell_type": "code",
   "execution_count": 74,
   "id": "complex-papua",
   "metadata": {},
   "outputs": [
    {
     "data": {
      "text/plain": [
       "#'user/programming-languages"
      ]
     },
     "execution_count": 74,
     "metadata": {},
     "output_type": "execute_result"
    }
   ],
   "source": [
    "(def programming-languages #{:ruby :python :clojure})"
   ]
  },
  {
   "cell_type": "code",
   "execution_count": 75,
   "id": "reported-spectrum",
   "metadata": {},
   "outputs": [
    {
     "data": {
      "text/plain": [
       "true"
      ]
     },
     "execution_count": 75,
     "metadata": {},
     "output_type": "execute_result"
    }
   ],
   "source": [
    "(contains? programming-languages :ruby)"
   ]
  },
  {
   "cell_type": "code",
   "execution_count": 76,
   "id": "revolutionary-advance",
   "metadata": {},
   "outputs": [
    {
     "data": {
      "text/plain": [
       "false"
      ]
     },
     "execution_count": 76,
     "metadata": {},
     "output_type": "execute_result"
    }
   ],
   "source": [
    "(contains? programming-languages :java)"
   ]
  },
  {
   "cell_type": "code",
   "execution_count": 77,
   "id": "silent-begin",
   "metadata": {},
   "outputs": [
    {
     "data": {
      "text/plain": [
       ":ruby"
      ]
     },
     "execution_count": 77,
     "metadata": {},
     "output_type": "execute_result"
    }
   ],
   "source": [
    "(programming-languages :ruby)"
   ]
  },
  {
   "cell_type": "code",
   "execution_count": 78,
   "id": "parallel-bradley",
   "metadata": {},
   "outputs": [
    {
     "data": {
      "text/plain": [
       ":ruby"
      ]
     },
     "execution_count": 78,
     "metadata": {},
     "output_type": "execute_result"
    }
   ],
   "source": [
    "(:ruby programming-languages)"
   ]
  },
  {
   "cell_type": "code",
   "execution_count": 80,
   "id": "great-occasions",
   "metadata": {},
   "outputs": [
    {
     "data": {
      "text/plain": [
       "#{:clojure :python :perl :ruby}"
      ]
     },
     "execution_count": 80,
     "metadata": {},
     "output_type": "execute_result"
    }
   ],
   "source": [
    "(conj programming-languages :perl)"
   ]
  },
  {
   "cell_type": "code",
   "execution_count": 81,
   "id": "dominican-ratio",
   "metadata": {},
   "outputs": [
    {
     "data": {
      "text/plain": [
       "#{:clojure :python :ruby}"
      ]
     },
     "execution_count": 81,
     "metadata": {},
     "output_type": "execute_result"
    }
   ],
   "source": [
    "(disj programming-languages :perl)"
   ]
  },
  {
   "cell_type": "code",
   "execution_count": null,
   "id": "greenhouse-duncan",
   "metadata": {},
   "outputs": [],
   "source": []
  }
 ],
 "metadata": {
  "kernelspec": {
   "display_name": "Clojure (clojupyter=0.3.2=1)",
   "language": "clojure",
   "name": "conda-clojupyter"
  },
  "language_info": {
   "file_extension": ".clj",
   "mimetype": "text/x-clojure",
   "name": "clojure",
   "version": "1.10.1"
  }
 },
 "nbformat": 4,
 "nbformat_minor": 5
}
