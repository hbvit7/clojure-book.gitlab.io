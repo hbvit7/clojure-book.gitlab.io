{
 "cells": [
  {
   "cell_type": "markdown",
   "id": "conditional-paintball",
   "metadata": {},
   "source": [
    "# Printing Things"
   ]
  },
  {
   "cell_type": "code",
   "execution_count": 2,
   "id": "outside-edward",
   "metadata": {},
   "outputs": [
    {
     "name": "stdout",
     "output_type": "stream",
     "text": [
      "Hello World!\n"
     ]
    },
    {
     "data": {
      "text/plain": [
       "nil"
      ]
     },
     "execution_count": 2,
     "metadata": {},
     "output_type": "execute_result"
    }
   ],
   "source": [
    "(println \"Hello World!\")"
   ]
  },
  {
   "cell_type": "code",
   "execution_count": 3,
   "id": "committed-updating",
   "metadata": {},
   "outputs": [
    {
     "name": "stdout",
     "output_type": "stream",
     "text": [
      "Hello World!\n"
     ]
    },
    {
     "data": {
      "text/plain": [
       "nil"
      ]
     },
     "execution_count": 3,
     "metadata": {},
     "output_type": "execute_result"
    }
   ],
   "source": [
    "(println \"Hello World!\") ; Says Hello to this world"
   ]
  },
  {
   "cell_type": "code",
   "execution_count": 4,
   "id": "instant-sapphire",
   "metadata": {},
   "outputs": [
    {
     "name": "stdout",
     "output_type": "stream",
     "text": [
      "Hello World!\n"
     ]
    },
    {
     "data": {
      "text/plain": [
       "nil"
      ]
     },
     "execution_count": 4,
     "metadata": {},
     "output_type": "execute_result"
    }
   ],
   "source": [
    ";; This program says helo to this world\n",
    "(println \"Hello World!\")"
   ]
  },
  {
   "cell_type": "code",
   "execution_count": 6,
   "id": "restricted-vancouver",
   "metadata": {},
   "outputs": [
    {
     "name": "stdout",
     "output_type": "stream",
     "text": [
      "Hello World! Try staying cool.\n"
     ]
    },
    {
     "data": {
      "text/plain": [
       "nil"
      ]
     },
     "execution_count": 6,
     "metadata": {},
     "output_type": "execute_result"
    }
   ],
   "source": [
    "(println \"Hello World!\" \"Try staying cool.\")"
   ]
  },
  {
   "cell_type": "code",
   "execution_count": 8,
   "id": "significant-exemption",
   "metadata": {},
   "outputs": [
    {
     "data": {
      "text/plain": [
       "\"Hello World\""
      ]
     },
     "execution_count": 8,
     "metadata": {},
     "output_type": "execute_result"
    }
   ],
   "source": [
    "(str \"Hello\" \" \" \"World\")"
   ]
  },
  {
   "cell_type": "markdown",
   "id": "final-intention",
   "metadata": {},
   "source": [
    "# Arithmetic"
   ]
  },
  {
   "cell_type": "code",
   "execution_count": 10,
   "id": "lyric-mixture",
   "metadata": {},
   "outputs": [
    {
     "data": {
      "text/plain": [
       "42"
      ]
     },
     "execution_count": 10,
     "metadata": {},
     "output_type": "execute_result"
    }
   ],
   "source": [
    "(+ 40 2)"
   ]
  },
  {
   "cell_type": "code",
   "execution_count": 11,
   "id": "southeast-lesson",
   "metadata": {},
   "outputs": [
    {
     "data": {
      "text/plain": [
       "42"
      ]
     },
     "execution_count": 11,
     "metadata": {},
     "output_type": "execute_result"
    }
   ],
   "source": [
    "(- 44 2)"
   ]
  },
  {
   "cell_type": "code",
   "execution_count": 12,
   "id": "crazy-grace",
   "metadata": {},
   "outputs": [
    {
     "data": {
      "text/plain": [
       "42"
      ]
     },
     "execution_count": 12,
     "metadata": {},
     "output_type": "execute_result"
    }
   ],
   "source": [
    "(* 6 7)"
   ]
  },
  {
   "cell_type": "code",
   "execution_count": 16,
   "id": "august-andrews",
   "metadata": {},
   "outputs": [
    {
     "data": {
      "text/plain": [
       "42"
      ]
     },
     "execution_count": 16,
     "metadata": {},
     "output_type": "execute_result"
    }
   ],
   "source": [
    "(/ 210 5)"
   ]
  },
  {
   "cell_type": "code",
   "execution_count": 17,
   "id": "rolled-lawrence",
   "metadata": {},
   "outputs": [
    {
     "data": {
      "text/plain": [
       "15"
      ]
     },
     "execution_count": 17,
     "metadata": {},
     "output_type": "execute_result"
    }
   ],
   "source": [
    "(+ 1 2 3 4 5)"
   ]
  },
  {
   "cell_type": "code",
   "execution_count": 18,
   "id": "sticky-nudist",
   "metadata": {},
   "outputs": [
    {
     "data": {
      "text/plain": [
       "3"
      ]
     },
     "execution_count": 18,
     "metadata": {},
     "output_type": "execute_result"
    }
   ],
   "source": [
    "(/ (+ 1 2 3 4 5) 5)"
   ]
  },
  {
   "cell_type": "code",
   "execution_count": 19,
   "id": "sharp-township",
   "metadata": {},
   "outputs": [
    {
     "data": {
      "text/plain": [
       "1/6"
      ]
     },
     "execution_count": 19,
     "metadata": {},
     "output_type": "execute_result"
    }
   ],
   "source": [
    "(/ 1 2 3) ; this gives out a ratio, a clojure data type"
   ]
  },
  {
   "cell_type": "code",
   "execution_count": 24,
   "id": "undefined-simple",
   "metadata": {},
   "outputs": [
    {
     "data": {
      "text/plain": [
       "0.16666666666666666"
      ]
     },
     "execution_count": 24,
     "metadata": {},
     "output_type": "execute_result"
    }
   ],
   "source": [
    "(/ 1 6.0)"
   ]
  },
  {
   "cell_type": "code",
   "execution_count": 25,
   "id": "fleet-issue",
   "metadata": {},
   "outputs": [
    {
     "data": {
      "text/plain": [
       "0.16666666666666666"
      ]
     },
     "execution_count": 25,
     "metadata": {},
     "output_type": "execute_result"
    }
   ],
   "source": [
    "(/ 1 2.0 3)"
   ]
  },
  {
   "cell_type": "code",
   "execution_count": 26,
   "id": "geographic-minutes",
   "metadata": {},
   "outputs": [
    {
     "data": {
      "text/plain": [
       "0.16666666666666666"
      ]
     },
     "execution_count": 26,
     "metadata": {},
     "output_type": "execute_result"
    }
   ],
   "source": [
    "(/ 1 2 3.0)"
   ]
  },
  {
   "cell_type": "code",
   "execution_count": 21,
   "id": "selected-syndrome",
   "metadata": {},
   "outputs": [
    {
     "data": {
      "text/plain": [
       "2"
      ]
     },
     "execution_count": 21,
     "metadata": {},
     "output_type": "execute_result"
    }
   ],
   "source": [
    "(quot 14 5)"
   ]
  },
  {
   "cell_type": "code",
   "execution_count": 22,
   "id": "aggressive-background",
   "metadata": {},
   "outputs": [
    {
     "data": {
      "text/plain": [
       "4"
      ]
     },
     "execution_count": 22,
     "metadata": {},
     "output_type": "execute_result"
    }
   ],
   "source": [
    "(rem 14 5)"
   ]
  },
  {
   "cell_type": "markdown",
   "id": "informative-commonwealth",
   "metadata": {},
   "source": [
    "# Variables"
   ]
  },
  {
   "cell_type": "code",
   "execution_count": 28,
   "id": "dirty-religion",
   "metadata": {},
   "outputs": [
    {
     "data": {
      "text/plain": [
       "#'user/my-name"
      ]
     },
     "execution_count": 28,
     "metadata": {},
     "output_type": "execute_result"
    }
   ],
   "source": [
    "(def my-name \"Karthik\")"
   ]
  },
  {
   "cell_type": "code",
   "execution_count": 30,
   "id": "swiss-screw",
   "metadata": {},
   "outputs": [
    {
     "name": "stdout",
     "output_type": "stream",
     "text": [
      "Karthik\n"
     ]
    },
    {
     "data": {
      "text/plain": [
       "nil"
      ]
     },
     "execution_count": 30,
     "metadata": {},
     "output_type": "execute_result"
    }
   ],
   "source": [
    "(println my-name)"
   ]
  },
  {
   "cell_type": "code",
   "execution_count": 32,
   "id": "injured-houston",
   "metadata": {},
   "outputs": [
    {
     "name": "stdout",
     "output_type": "stream",
     "text": [
      "Hello Karthik\n"
     ]
    },
    {
     "data": {
      "text/plain": [
       "nil"
      ]
     },
     "execution_count": 32,
     "metadata": {},
     "output_type": "execute_result"
    }
   ],
   "source": [
    "(println \"Hello\" my-name)"
   ]
  },
  {
   "cell_type": "code",
   "execution_count": 33,
   "id": "sought-extent",
   "metadata": {},
   "outputs": [
    {
     "name": "stdout",
     "output_type": "stream",
     "text": [
      "Hello Karthik!\n"
     ]
    },
    {
     "data": {
      "text/plain": [
       "nil"
      ]
     },
     "execution_count": 33,
     "metadata": {},
     "output_type": "execute_result"
    }
   ],
   "source": [
    "(def greeting (str \"Hello \" my-name \"!\"))\n",
    "(println greeting)"
   ]
  },
  {
   "cell_type": "markdown",
   "id": "fifteen-satisfaction",
   "metadata": {},
   "source": [
    "# Strings"
   ]
  },
  {
   "cell_type": "code",
   "execution_count": 34,
   "id": "continued-financing",
   "metadata": {},
   "outputs": [
    {
     "data": {
      "text/plain": [
       "\"1 + 2 is 3\""
      ]
     },
     "execution_count": 34,
     "metadata": {},
     "output_type": "execute_result"
    }
   ],
   "source": [
    "(str \"1 + 2 is \" (+ 1 2))"
   ]
  },
  {
   "cell_type": "code",
   "execution_count": 35,
   "id": "pretty-carrier",
   "metadata": {},
   "outputs": [
    {
     "data": {
      "text/plain": [
       "5"
      ]
     },
     "execution_count": 35,
     "metadata": {},
     "output_type": "execute_result"
    }
   ],
   "source": [
    "(count \"Hello\")"
   ]
  },
  {
   "cell_type": "code",
   "execution_count": 36,
   "id": "rental-analysis",
   "metadata": {},
   "outputs": [
    {
     "data": {
      "text/plain": [
       "\"12345 and so on...\""
      ]
     },
     "execution_count": 36,
     "metadata": {},
     "output_type": "execute_result"
    }
   ],
   "source": [
    "(str 1 2 3 4 5 \" and so on...\")"
   ]
  },
  {
   "cell_type": "code",
   "execution_count": null,
   "id": "dried-latex",
   "metadata": {},
   "outputs": [],
   "source": []
  }
 ],
 "metadata": {
  "kernelspec": {
   "display_name": "Clojure (clojupyter=0.3.2=1)",
   "language": "clojure",
   "name": "conda-clojupyter"
  },
  "language_info": {
   "file_extension": ".clj",
   "mimetype": "text/x-clojure",
   "name": "clojure",
   "version": "1.10.1"
  }
 },
 "nbformat": 4,
 "nbformat_minor": 5
}
