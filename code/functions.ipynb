{
 "cells": [
  {
   "cell_type": "code",
   "execution_count": 1,
   "id": "operational-workplace",
   "metadata": {},
   "outputs": [
    {
     "data": {
      "text/plain": [
       "#'user/hello-world"
      ]
     },
     "execution_count": 1,
     "metadata": {},
     "output_type": "execute_result"
    }
   ],
   "source": [
    "(defn hello-world [] (println \"Hello World!\"))"
   ]
  },
  {
   "cell_type": "code",
   "execution_count": 2,
   "id": "ongoing-crowd",
   "metadata": {},
   "outputs": [
    {
     "name": "stdout",
     "output_type": "stream",
     "text": [
      "Hello World!\n"
     ]
    },
    {
     "data": {
      "text/plain": [
       "nil"
      ]
     },
     "execution_count": 2,
     "metadata": {},
     "output_type": "execute_result"
    }
   ],
   "source": [
    "(hello-world)"
   ]
  },
  {
   "cell_type": "code",
   "execution_count": 3,
   "id": "young-polls",
   "metadata": {},
   "outputs": [
    {
     "data": {
      "text/plain": [
       "#'user/hello-someone"
      ]
     },
     "execution_count": 3,
     "metadata": {},
     "output_type": "execute_result"
    }
   ],
   "source": [
    "(defn hello-someone [some-name]\n",
    "    (print \"Hello\" some-name \"!\"))"
   ]
  },
  {
   "cell_type": "code",
   "execution_count": 4,
   "id": "stopped-crossing",
   "metadata": {},
   "outputs": [
    {
     "name": "stdout",
     "output_type": "stream",
     "text": [
      "Hello Gandhi !"
     ]
    },
    {
     "data": {
      "text/plain": [
       "nil"
      ]
     },
     "execution_count": 4,
     "metadata": {},
     "output_type": "execute_result"
    }
   ],
   "source": [
    "(hello-someone \"Gandhi\")"
   ]
  },
  {
   "cell_type": "code",
   "execution_count": 5,
   "id": "european-clearing",
   "metadata": {},
   "outputs": [
    {
     "data": {
      "text/plain": [
       "#'user/hello-someone-2"
      ]
     },
     "execution_count": 5,
     "metadata": {},
     "output_type": "execute_result"
    }
   ],
   "source": [
    "(defn hello-someone-2 [some-name]\n",
    "    (print (str \"Hello \" some-name \"!\"))\n",
    ")"
   ]
  },
  {
   "cell_type": "code",
   "execution_count": 6,
   "id": "virgin-invitation",
   "metadata": {},
   "outputs": [
    {
     "name": "stdout",
     "output_type": "stream",
     "text": [
      "Hello Netaji!"
     ]
    },
    {
     "data": {
      "text/plain": [
       "nil"
      ]
     },
     "execution_count": 6,
     "metadata": {},
     "output_type": "execute_result"
    }
   ],
   "source": [
    "(hello-someone-2 \"Netaji\")"
   ]
  },
  {
   "cell_type": "code",
   "execution_count": 7,
   "id": "instructional-hartford",
   "metadata": {},
   "outputs": [
    {
     "data": {
      "text/plain": [
       "8"
      ]
     },
     "execution_count": 7,
     "metadata": {},
     "output_type": "execute_result"
    }
   ],
   "source": [
    "(defn add-numbers [a b]\n",
    "    (+ a b))\n",
    "\n",
    "(add-numbers 3 5)"
   ]
  },
  {
   "cell_type": "markdown",
   "id": "vertical-richmond",
   "metadata": {},
   "source": [
    "# Differnt number of arguments"
   ]
  },
  {
   "cell_type": "code",
   "execution_count": 8,
   "id": "three-blocking",
   "metadata": {},
   "outputs": [
    {
     "name": "stdout",
     "output_type": "stream",
     "text": [
      "This function was called without an argument\n",
      "This function was called with one argument\n",
      "This function was called with two arguments\n"
     ]
    },
    {
     "data": {
      "text/plain": [
       "nil"
      ]
     },
     "execution_count": 8,
     "metadata": {},
     "output_type": "execute_result"
    }
   ],
   "source": [
    "(defn some-function\n",
    "    ([]\n",
    "     (println \"This function was called without an argument\")\n",
    "    )\n",
    "    \n",
    "    ([first-argument]\n",
    "     (println \"This function was called with one argument\")\n",
    "    )\n",
    "    \n",
    "    ([first-argument-argument second-argument]\n",
    "     (println \"This function was called with two arguments\")\n",
    "    )\n",
    ")\n",
    "\n",
    "(some-function)\n",
    "(some-function 1)\n",
    "(some-function \"a\", 1)"
   ]
  },
  {
   "cell_type": "markdown",
   "id": "opposed-characterization",
   "metadata": {},
   "source": [
    "## Variable Arguments"
   ]
  },
  {
   "cell_type": "code",
   "execution_count": 9,
   "id": "executive-decimal",
   "metadata": {},
   "outputs": [
    {
     "name": "stdout",
     "output_type": "stream",
     "text": [
      "Arguments: (1 2 a 7 :hello)\n"
     ]
    },
    {
     "data": {
      "text/plain": [
       "nil"
      ]
     },
     "execution_count": 9,
     "metadata": {},
     "output_type": "execute_result"
    }
   ],
   "source": [
    "(defn var-arg [& args]\n",
    "    (println \"Arguments:\" args)\n",
    ")\n",
    "\n",
    "(var-arg 1 2 \"a\" 7 :hello)"
   ]
  },
  {
   "cell_type": "code",
   "execution_count": 10,
   "id": "south-ukraine",
   "metadata": {},
   "outputs": [
    {
     "name": "stdout",
     "output_type": "stream",
     "text": [
      "First argument: 1\n",
      "Second Argument: 2\n",
      "Other Arguments: (3 4)\n"
     ]
    },
    {
     "data": {
      "text/plain": [
       "nil"
      ]
     },
     "execution_count": 10,
     "metadata": {},
     "output_type": "execute_result"
    }
   ],
   "source": [
    "(defn variable-arguments [first-argument second-argument & other-arguments]\n",
    "    (println \"First argument:\" first-argument)\n",
    "    (println \"Second Argument:\" second-argument)\n",
    "    (println \"Other Arguments:\" other-arguments))\n",
    "\n",
    "(variable-arguments 1 2 3 4)"
   ]
  },
  {
   "cell_type": "markdown",
   "id": "municipal-college",
   "metadata": {},
   "source": [
    "# Multimethods"
   ]
  },
  {
   "cell_type": "code",
   "execution_count": 11,
   "id": "north-bangkok",
   "metadata": {},
   "outputs": [
    {
     "name": "stdout",
     "output_type": "stream",
     "text": [
      "Hello Karthik !\n",
      "Hello Mr. Karthik !\n",
      "Hello Mr. Karthik !\n"
     ]
    },
    {
     "data": {
      "text/plain": [
       "nil"
      ]
     },
     "execution_count": 11,
     "metadata": {},
     "output_type": "execute_result"
    }
   ],
   "source": [
    "(defn greeter-select [argument]\n",
    "    (cond\n",
    "        (string? argument) :string-greeter\n",
    "        (vector? argument) :vector-greeter\n",
    "        (map? argument) :map-greeter\n",
    "    )\n",
    ")\n",
    "\n",
    "(defmulti greet greeter-select)\n",
    "\n",
    "(defmethod greet :string-greeter [person-name]\n",
    "    (println \"Hello\" person-name \"!\")\n",
    ")\n",
    "\n",
    "(defmethod greet :vector-greeter [person-details]\n",
    "    (println \"Hello\" (first person-details) (second person-details) \"!\")\n",
    ")\n",
    "\n",
    "(defmethod greet :map-greeter [person-details]\n",
    "    (println \"Hello\" (:title person-details) (:name person-details) \"!\")\n",
    ")\n",
    "\n",
    "(greet \"Karthik\")\n",
    "(greet [\"Mr.\" \"Karthik\"])\n",
    "(greet {:name \"Karthik\" :title \"Mr.\"})"
   ]
  },
  {
   "cell_type": "code",
   "execution_count": 17,
   "id": "aquatic-graham",
   "metadata": {},
   "outputs": [
    {
     "name": "stdout",
     "output_type": "stream",
     "text": [
      "Hello Karthik !\n",
      "Hello Mr. Karthik !\n",
      "Hello Mr. Karthik !\n",
      "Sorry I don't know how to greet you.\n"
     ]
    },
    {
     "data": {
      "text/plain": [
       "nil"
      ]
     },
     "execution_count": 17,
     "metadata": {},
     "output_type": "execute_result"
    }
   ],
   "source": [
    "(defn greeter-select-2 [argument]\n",
    "    (cond\n",
    "        (string? argument) :string-greeter-2\n",
    "        (vector? argument) :vector-greeter-2\n",
    "        (map? argument) :map-greeter-2\n",
    "        :else :unknown-greeter\n",
    "    )\n",
    ")\n",
    "\n",
    "(defmulti greet-2 greeter-select-2)\n",
    "\n",
    "(defmethod greet-2 :string-greeter-2 [person-name]\n",
    "    (println \"Hello\" person-name \"!\")\n",
    ")\n",
    "\n",
    "(defmethod greet-2 :vector-greeter-2 [person-details]\n",
    "    (println \"Hello\" (first person-details) (second person-details) \"!\")\n",
    ")\n",
    "\n",
    "(defmethod greet-2 :map-greeter-2 [person-details]\n",
    "    (println \"Hello\" (:title person-details) (:name person-details) \"!\")\n",
    ")\n",
    "\n",
    "(defmethod greet-2 :unknown-greeter [person-details]\n",
    "    (println \"Sorry I don't know how to greet you.\")\n",
    ")\n",
    "\n",
    "(greet-2 \"Karthik\")\n",
    "(greet-2 [\"Mr.\" \"Karthik\"])\n",
    "(greet-2 {:name \"Karthik\" :title \"Mr.\"})\n",
    "(greet-2 '(\"Mr.\" \"Karthik\"))"
   ]
  },
  {
   "cell_type": "markdown",
   "id": "diverse-faith",
   "metadata": {},
   "source": [
    "# Recursion"
   ]
  },
  {
   "cell_type": "code",
   "execution_count": 19,
   "id": "knowing-habitat",
   "metadata": {},
   "outputs": [
    {
     "data": {
      "text/plain": [
       "720"
      ]
     },
     "execution_count": 19,
     "metadata": {},
     "output_type": "execute_result"
    }
   ],
   "source": [
    "(defn factorial [number]\n",
    "    (if (= number 1)\n",
    "        1\n",
    "        (* number (factorial (- number 1)))\n",
    "    )\n",
    ")\n",
    "\n",
    "(factorial 6)"
   ]
  },
  {
   "cell_type": "code",
   "execution_count": null,
   "id": "challenging-chicago",
   "metadata": {},
   "outputs": [],
   "source": []
  }
 ],
 "metadata": {
  "kernelspec": {
   "display_name": "Clojure (clojupyter=0.3.2=1)",
   "language": "clojure",
   "name": "conda-clojupyter"
  },
  "language_info": {
   "file_extension": ".clj",
   "mimetype": "text/x-clojure",
   "name": "clojure",
   "version": "1.10.1"
  }
 },
 "nbformat": 4,
 "nbformat_minor": 5
}
