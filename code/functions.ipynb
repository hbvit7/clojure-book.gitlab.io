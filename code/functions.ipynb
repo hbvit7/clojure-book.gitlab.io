{
 "cells": [
  {
   "cell_type": "code",
   "execution_count": 1,
   "id": "unique-assurance",
   "metadata": {},
   "outputs": [
    {
     "data": {
      "text/plain": [
       "#'user/hello-world"
      ]
     },
     "execution_count": 1,
     "metadata": {},
     "output_type": "execute_result"
    }
   ],
   "source": [
    "(defn hello-world [] (println \"Hello World!\"))"
   ]
  },
  {
   "cell_type": "code",
   "execution_count": 3,
   "id": "creative-plane",
   "metadata": {},
   "outputs": [
    {
     "name": "stdout",
     "output_type": "stream",
     "text": [
      "Hello World!\n"
     ]
    },
    {
     "data": {
      "text/plain": [
       "nil"
      ]
     },
     "execution_count": 3,
     "metadata": {},
     "output_type": "execute_result"
    }
   ],
   "source": [
    "(hello-world)"
   ]
  },
  {
   "cell_type": "code",
   "execution_count": 15,
   "id": "turkish-curtis",
   "metadata": {},
   "outputs": [
    {
     "data": {
      "text/plain": [
       "#'user/hello-someone"
      ]
     },
     "execution_count": 15,
     "metadata": {},
     "output_type": "execute_result"
    }
   ],
   "source": [
    "(defn hello-someone [some-name]\n",
    "    (print \"Hello\" some-name \"!\"))"
   ]
  },
  {
   "cell_type": "code",
   "execution_count": 16,
   "id": "advisory-selling",
   "metadata": {},
   "outputs": [
    {
     "name": "stdout",
     "output_type": "stream",
     "text": [
      "Hello Gandhi !"
     ]
    },
    {
     "data": {
      "text/plain": [
       "nil"
      ]
     },
     "execution_count": 16,
     "metadata": {},
     "output_type": "execute_result"
    }
   ],
   "source": [
    "(hello-someone \"Gandhi\")"
   ]
  },
  {
   "cell_type": "code",
   "execution_count": 17,
   "id": "preliminary-service",
   "metadata": {},
   "outputs": [
    {
     "data": {
      "text/plain": [
       "#'user/hello-someone-2"
      ]
     },
     "execution_count": 17,
     "metadata": {},
     "output_type": "execute_result"
    }
   ],
   "source": [
    "(defn hello-someone-2 [some-name]\n",
    "    (print (str \"Hello \" some-name \"!\")))"
   ]
  },
  {
   "cell_type": "code",
   "execution_count": 18,
   "id": "floral-compression",
   "metadata": {},
   "outputs": [
    {
     "name": "stdout",
     "output_type": "stream",
     "text": [
      "Hello Netaji!"
     ]
    },
    {
     "data": {
      "text/plain": [
       "nil"
      ]
     },
     "execution_count": 18,
     "metadata": {},
     "output_type": "execute_result"
    }
   ],
   "source": [
    "(hello-someone-2 \"Netaji\")"
   ]
  },
  {
   "cell_type": "code",
   "execution_count": 20,
   "id": "multiple-hayes",
   "metadata": {},
   "outputs": [
    {
     "data": {
      "text/plain": [
       "8"
      ]
     },
     "execution_count": 20,
     "metadata": {},
     "output_type": "execute_result"
    }
   ],
   "source": [
    "(defn add-numbers [a b]\n",
    "    (+ a b))\n",
    "\n",
    "(add-numbers 3 5)"
   ]
  },
  {
   "cell_type": "markdown",
   "id": "subject-oasis",
   "metadata": {},
   "source": [
    "## Variable Arguments"
   ]
  },
  {
   "cell_type": "code",
   "execution_count": 22,
   "id": "organized-pioneer",
   "metadata": {},
   "outputs": [
    {
     "name": "stderr",
     "output_type": "stream",
     "text": [
      "Execution error (ArityException) at user/eval5529 (REPL:6).\n",
      "Wrong number of args (4) passed to: user/variable-arguments\n"
     ]
    },
    {
     "ename": "class clojure.lang.ArityException",
     "evalue": "",
     "execution_count": 22,
     "output_type": "error",
     "status": "error",
     "traceback": [
      "   AFn.java:   429 clojure.lang.AFn/throwArity",
      "   AFn.java:    44 clojure.lang.AFn/invoke",
      "   core.clj:  3214 clojure.core$eval/invokeStatic",
      "   core.clj:  3210 clojure.core$eval/invoke",
      "   main.clj:   437 clojure.main$repl$read_eval_print__9086$fn__9089/invoke",
      "   main.clj:   458 clojure.main$repl$fn__9095/invoke",
      "   main.clj:   368 clojure.main$repl/doInvoke",
      "RestFn.java:  1523 clojure.lang.RestFn/invoke",
      "   AFn.java:    22 clojure.lang.AFn/run",
      "   AFn.java:    22 clojure.lang.AFn/run",
      "Thread.java:   745 java.lang.Thread/run"
     ]
    }
   ],
   "source": [
    "(defn variable-arguments [first-argument second-argument &other-arguments]\n",
    "    (println \"First argument:\" first-argument)\n",
    "    (println \"Second Argument:\" second-argument)\n",
    "    (println \"Other Arguments:\" &other-arguments))\n",
    "\n",
    "(variable-arguments 1 2 3 4)"
   ]
  },
  {
   "cell_type": "code",
   "execution_count": null,
   "id": "special-horizon",
   "metadata": {},
   "outputs": [],
   "source": []
  }
 ],
 "metadata": {
  "kernelspec": {
   "display_name": "Clojure (clojupyter=0.3.2=1)",
   "language": "clojure",
   "name": "conda-clojupyter"
  },
  "language_info": {
   "file_extension": ".clj",
   "mimetype": "text/x-clojure",
   "name": "clojure",
   "version": "1.10.1"
  }
 },
 "nbformat": 4,
 "nbformat_minor": 5
}
