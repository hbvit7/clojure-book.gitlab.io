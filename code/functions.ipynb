{
 "cells": [
  {
   "cell_type": "code",
   "execution_count": 1,
   "id": "empty-differential",
   "metadata": {},
   "outputs": [
    {
     "data": {
      "text/plain": [
       "#'user/hello-world"
      ]
     },
     "execution_count": 1,
     "metadata": {},
     "output_type": "execute_result"
    }
   ],
   "source": [
    "(defn hello-world [] (println \"Hello World!\"))"
   ]
  },
  {
   "cell_type": "code",
   "execution_count": 3,
   "id": "explicit-trading",
   "metadata": {},
   "outputs": [
    {
     "name": "stdout",
     "output_type": "stream",
     "text": [
      "Hello World!\n"
     ]
    },
    {
     "data": {
      "text/plain": [
       "nil"
      ]
     },
     "execution_count": 3,
     "metadata": {},
     "output_type": "execute_result"
    }
   ],
   "source": [
    "(hello-world)"
   ]
  },
  {
   "cell_type": "code",
   "execution_count": 15,
   "id": "british-expense",
   "metadata": {},
   "outputs": [
    {
     "data": {
      "text/plain": [
       "#'user/hello-someone"
      ]
     },
     "execution_count": 15,
     "metadata": {},
     "output_type": "execute_result"
    }
   ],
   "source": [
    "(defn hello-someone [some-name]\n",
    "    (print \"Hello\" some-name \"!\"))"
   ]
  },
  {
   "cell_type": "code",
   "execution_count": 16,
   "id": "united-fever",
   "metadata": {},
   "outputs": [
    {
     "name": "stdout",
     "output_type": "stream",
     "text": [
      "Hello Gandhi !"
     ]
    },
    {
     "data": {
      "text/plain": [
       "nil"
      ]
     },
     "execution_count": 16,
     "metadata": {},
     "output_type": "execute_result"
    }
   ],
   "source": [
    "(hello-someone \"Gandhi\")"
   ]
  },
  {
   "cell_type": "code",
   "execution_count": 17,
   "id": "adjustable-working",
   "metadata": {},
   "outputs": [
    {
     "data": {
      "text/plain": [
       "#'user/hello-someone-2"
      ]
     },
     "execution_count": 17,
     "metadata": {},
     "output_type": "execute_result"
    }
   ],
   "source": [
    "(defn hello-someone-2 [some-name]\n",
    "    (print (str \"Hello \" some-name \"!\"))\n",
    ")"
   ]
  },
  {
   "cell_type": "code",
   "execution_count": 18,
   "id": "electrical-bracket",
   "metadata": {},
   "outputs": [
    {
     "name": "stdout",
     "output_type": "stream",
     "text": [
      "Hello Netaji!"
     ]
    },
    {
     "data": {
      "text/plain": [
       "nil"
      ]
     },
     "execution_count": 18,
     "metadata": {},
     "output_type": "execute_result"
    }
   ],
   "source": [
    "(hello-someone-2 \"Netaji\")"
   ]
  },
  {
   "cell_type": "code",
   "execution_count": 20,
   "id": "dense-involvement",
   "metadata": {},
   "outputs": [
    {
     "data": {
      "text/plain": [
       "8"
      ]
     },
     "execution_count": 20,
     "metadata": {},
     "output_type": "execute_result"
    }
   ],
   "source": [
    "(defn add-numbers [a b]\n",
    "    (+ a b))\n",
    "\n",
    "(add-numbers 3 5)"
   ]
  },
  {
   "cell_type": "markdown",
   "id": "responsible-family",
   "metadata": {},
   "source": [
    "# Differnt number of arguments"
   ]
  },
  {
   "cell_type": "code",
   "execution_count": 1,
   "id": "boring-throw",
   "metadata": {},
   "outputs": [
    {
     "name": "stdout",
     "output_type": "stream",
     "text": [
      "This function was called without an argument\n",
      "This function was called with one argument\n",
      "This function was called with two arguments\n"
     ]
    },
    {
     "data": {
      "text/plain": [
       "nil"
      ]
     },
     "execution_count": 1,
     "metadata": {},
     "output_type": "execute_result"
    }
   ],
   "source": [
    "(defn some-function\n",
    "    ([]\n",
    "     (println \"This function was called without an argument\")\n",
    "    )\n",
    "    \n",
    "    ([first-argument]\n",
    "     (println \"This function was called with one argument\")\n",
    "    )\n",
    "    \n",
    "    ([first-argument-argument second-argument]\n",
    "     (println \"This function was called with two arguments\")\n",
    "    )\n",
    ")\n",
    "\n",
    "(some-function)\n",
    "(some-function 1)\n",
    "(some-function \"a\", 1)"
   ]
  },
  {
   "cell_type": "markdown",
   "id": "atomic-occasion",
   "metadata": {},
   "source": [
    "## Variable Arguments"
   ]
  },
  {
   "cell_type": "code",
   "execution_count": 3,
   "id": "exact-cotton",
   "metadata": {},
   "outputs": [
    {
     "name": "stdout",
     "output_type": "stream",
     "text": [
      "Arguments: (1 2 a 7 :hello)\n"
     ]
    },
    {
     "data": {
      "text/plain": [
       "nil"
      ]
     },
     "execution_count": 3,
     "metadata": {},
     "output_type": "execute_result"
    }
   ],
   "source": [
    "(defn var-arg [& args]\n",
    "    (println \"Arguments:\" args)\n",
    ")\n",
    "\n",
    "(var-arg 1 2 \"a\" 7 :hello)"
   ]
  },
  {
   "cell_type": "code",
   "execution_count": 2,
   "id": "interesting-leather",
   "metadata": {},
   "outputs": [
    {
     "name": "stdout",
     "output_type": "stream",
     "text": [
      "First argument: 1\n",
      "Second Argument: 2\n",
      "Other Arguments: (3 4)\n"
     ]
    },
    {
     "data": {
      "text/plain": [
       "nil"
      ]
     },
     "execution_count": 2,
     "metadata": {},
     "output_type": "execute_result"
    }
   ],
   "source": [
    "(defn variable-arguments [first-argument second-argument & other-arguments]\n",
    "    (println \"First argument:\" first-argument)\n",
    "    (println \"Second Argument:\" second-argument)\n",
    "    (println \"Other Arguments:\" other-arguments))\n",
    "\n",
    "(variable-arguments 1 2 3 4)"
   ]
  },
  {
   "cell_type": "code",
   "execution_count": null,
   "id": "favorite-remedy",
   "metadata": {},
   "outputs": [],
   "source": []
  }
 ],
 "metadata": {
  "kernelspec": {
   "display_name": "Clojure (clojupyter=0.3.2=1)",
   "language": "clojure",
   "name": "conda-clojupyter"
  },
  "language_info": {
   "file_extension": ".clj",
   "mimetype": "text/x-clojure",
   "name": "clojure",
   "version": "1.10.1"
  }
 },
 "nbformat": 4,
 "nbformat_minor": 5
}
