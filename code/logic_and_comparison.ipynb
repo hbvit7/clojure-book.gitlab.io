{
 "cells": [
  {
   "cell_type": "code",
   "execution_count": 3,
   "id": "ideal-surveillance",
   "metadata": {},
   "outputs": [
    {
     "data": {
      "text/plain": [
       "#'user/take-umbrella?"
      ]
     },
     "execution_count": 3,
     "metadata": {},
     "output_type": "execute_result"
    }
   ],
   "source": [
    "(defn take-umbrella? [raining?]\n",
    "    (if raining?\n",
    "        (println \"Take umbrella\")))"
   ]
  },
  {
   "cell_type": "code",
   "execution_count": 4,
   "id": "acting-match",
   "metadata": {},
   "outputs": [
    {
     "name": "stdout",
     "output_type": "stream",
     "text": [
      "Take umbrella\n"
     ]
    },
    {
     "data": {
      "text/plain": [
       "nil"
      ]
     },
     "execution_count": 4,
     "metadata": {},
     "output_type": "execute_result"
    }
   ],
   "source": [
    "(take-umbrella? true)"
   ]
  },
  {
   "cell_type": "code",
   "execution_count": 5,
   "id": "peripheral-israeli",
   "metadata": {},
   "outputs": [
    {
     "data": {
      "text/plain": [
       "nil"
      ]
     },
     "execution_count": 5,
     "metadata": {},
     "output_type": "execute_result"
    }
   ],
   "source": [
    "(take-umbrella? false)"
   ]
  },
  {
   "cell_type": "code",
   "execution_count": 6,
   "id": "incorporated-helen",
   "metadata": {},
   "outputs": [
    {
     "data": {
      "text/plain": [
       "#'user/take-umbrella?"
      ]
     },
     "execution_count": 6,
     "metadata": {},
     "output_type": "execute_result"
    }
   ],
   "source": [
    "(defn take-umbrella? [raining?]\n",
    "    (if raining?\n",
    "        (println \"Take umbrella\")\n",
    "        (println \"The weather is fine\")))"
   ]
  },
  {
   "cell_type": "code",
   "execution_count": 7,
   "id": "sunset-maldives",
   "metadata": {},
   "outputs": [
    {
     "name": "stdout",
     "output_type": "stream",
     "text": [
      "Take umbrella\n"
     ]
    },
    {
     "data": {
      "text/plain": [
       "nil"
      ]
     },
     "execution_count": 7,
     "metadata": {},
     "output_type": "execute_result"
    }
   ],
   "source": [
    "(take-umbrella? true)"
   ]
  },
  {
   "cell_type": "code",
   "execution_count": 8,
   "id": "developmental-commons",
   "metadata": {},
   "outputs": [
    {
     "name": "stdout",
     "output_type": "stream",
     "text": [
      "The weather is fine\n"
     ]
    },
    {
     "data": {
      "text/plain": [
       "nil"
      ]
     },
     "execution_count": 8,
     "metadata": {},
     "output_type": "execute_result"
    }
   ],
   "source": [
    "(take-umbrella? false)"
   ]
  },
  {
   "cell_type": "code",
   "execution_count": 9,
   "id": "radio-witch",
   "metadata": {},
   "outputs": [
    {
     "data": {
      "text/plain": [
       "#'user/maximum"
      ]
     },
     "execution_count": 9,
     "metadata": {},
     "output_type": "execute_result"
    }
   ],
   "source": [
    "(defn maximum [a b]\n",
    "    (if (> a b)\n",
    "        a b))"
   ]
  },
  {
   "cell_type": "code",
   "execution_count": 10,
   "id": "quick-terrace",
   "metadata": {},
   "outputs": [
    {
     "data": {
      "text/plain": [
       "5"
      ]
     },
     "execution_count": 10,
     "metadata": {},
     "output_type": "execute_result"
    }
   ],
   "source": [
    "(maximum 3 5)"
   ]
  },
  {
   "cell_type": "code",
   "execution_count": 11,
   "id": "rubber-worry",
   "metadata": {},
   "outputs": [
    {
     "data": {
      "text/plain": [
       "8"
      ]
     },
     "execution_count": 11,
     "metadata": {},
     "output_type": "execute_result"
    }
   ],
   "source": [
    "(maximum 8 5)"
   ]
  },
  {
   "cell_type": "code",
   "execution_count": null,
   "id": "crude-winning",
   "metadata": {},
   "outputs": [],
   "source": []
  }
 ],
 "metadata": {
  "kernelspec": {
   "display_name": "Clojure (clojupyter=0.3.2=1)",
   "language": "clojure",
   "name": "conda-clojupyter"
  },
  "language_info": {
   "file_extension": ".clj",
   "mimetype": "text/x-clojure",
   "name": "clojure",
   "version": "1.10.1"
  }
 },
 "nbformat": 4,
 "nbformat_minor": 5
}
