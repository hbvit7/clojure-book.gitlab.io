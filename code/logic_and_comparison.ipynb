{
 "cells": [
  {
   "cell_type": "code",
   "execution_count": 3,
   "id": "deadly-airport",
   "metadata": {},
   "outputs": [
    {
     "data": {
      "text/plain": [
       "#'user/take-umbrella?"
      ]
     },
     "execution_count": 3,
     "metadata": {},
     "output_type": "execute_result"
    }
   ],
   "source": [
    "(defn take-umbrella? [raining?]\n",
    "    (if raining?\n",
    "        (println \"Take umbrella\")))"
   ]
  },
  {
   "cell_type": "code",
   "execution_count": 4,
   "id": "similar-tongue",
   "metadata": {},
   "outputs": [
    {
     "name": "stdout",
     "output_type": "stream",
     "text": [
      "Take umbrella\n"
     ]
    },
    {
     "data": {
      "text/plain": [
       "nil"
      ]
     },
     "execution_count": 4,
     "metadata": {},
     "output_type": "execute_result"
    }
   ],
   "source": [
    "(take-umbrella? true)"
   ]
  },
  {
   "cell_type": "code",
   "execution_count": 5,
   "id": "convertible-anxiety",
   "metadata": {},
   "outputs": [
    {
     "data": {
      "text/plain": [
       "nil"
      ]
     },
     "execution_count": 5,
     "metadata": {},
     "output_type": "execute_result"
    }
   ],
   "source": [
    "(take-umbrella? false)"
   ]
  },
  {
   "cell_type": "code",
   "execution_count": 6,
   "id": "statewide-shakespeare",
   "metadata": {},
   "outputs": [
    {
     "data": {
      "text/plain": [
       "#'user/take-umbrella?"
      ]
     },
     "execution_count": 6,
     "metadata": {},
     "output_type": "execute_result"
    }
   ],
   "source": [
    "(defn take-umbrella? [raining?]\n",
    "    (if raining?\n",
    "        (println \"Take umbrella\")\n",
    "        (println \"The weather is fine\")))"
   ]
  },
  {
   "cell_type": "code",
   "execution_count": 7,
   "id": "interstate-classroom",
   "metadata": {},
   "outputs": [
    {
     "name": "stdout",
     "output_type": "stream",
     "text": [
      "Take umbrella\n"
     ]
    },
    {
     "data": {
      "text/plain": [
       "nil"
      ]
     },
     "execution_count": 7,
     "metadata": {},
     "output_type": "execute_result"
    }
   ],
   "source": [
    "(take-umbrella? true)"
   ]
  },
  {
   "cell_type": "code",
   "execution_count": 8,
   "id": "compound-hindu",
   "metadata": {},
   "outputs": [
    {
     "name": "stdout",
     "output_type": "stream",
     "text": [
      "The weather is fine\n"
     ]
    },
    {
     "data": {
      "text/plain": [
       "nil"
      ]
     },
     "execution_count": 8,
     "metadata": {},
     "output_type": "execute_result"
    }
   ],
   "source": [
    "(take-umbrella? false)"
   ]
  },
  {
   "cell_type": "code",
   "execution_count": 9,
   "id": "recovered-sleep",
   "metadata": {},
   "outputs": [
    {
     "data": {
      "text/plain": [
       "#'user/maximum"
      ]
     },
     "execution_count": 9,
     "metadata": {},
     "output_type": "execute_result"
    }
   ],
   "source": [
    "(defn maximum [a b]\n",
    "    (if (> a b)\n",
    "        a b))"
   ]
  },
  {
   "cell_type": "code",
   "execution_count": 10,
   "id": "virgin-spanking",
   "metadata": {},
   "outputs": [
    {
     "data": {
      "text/plain": [
       "5"
      ]
     },
     "execution_count": 10,
     "metadata": {},
     "output_type": "execute_result"
    }
   ],
   "source": [
    "(maximum 3 5)"
   ]
  },
  {
   "cell_type": "code",
   "execution_count": 11,
   "id": "julian-better",
   "metadata": {},
   "outputs": [
    {
     "data": {
      "text/plain": [
       "8"
      ]
     },
     "execution_count": 11,
     "metadata": {},
     "output_type": "execute_result"
    }
   ],
   "source": [
    "(maximum 8 5)"
   ]
  },
  {
   "cell_type": "markdown",
   "id": "understood-science",
   "metadata": {},
   "source": [
    "# Comparisons"
   ]
  },
  {
   "cell_type": "code",
   "execution_count": 18,
   "id": "recovered-prague",
   "metadata": {},
   "outputs": [
    {
     "data": {
      "text/plain": [
       "false"
      ]
     },
     "execution_count": 18,
     "metadata": {},
     "output_type": "execute_result"
    }
   ],
   "source": [
    "(> 1 2)"
   ]
  },
  {
   "cell_type": "code",
   "execution_count": 19,
   "id": "negative-fireplace",
   "metadata": {},
   "outputs": [
    {
     "data": {
      "text/plain": [
       "true"
      ]
     },
     "execution_count": 19,
     "metadata": {},
     "output_type": "execute_result"
    }
   ],
   "source": [
    "(< 1 2)"
   ]
  },
  {
   "cell_type": "code",
   "execution_count": 20,
   "id": "million-thomas",
   "metadata": {},
   "outputs": [
    {
     "data": {
      "text/plain": [
       "false"
      ]
     },
     "execution_count": 20,
     "metadata": {},
     "output_type": "execute_result"
    }
   ],
   "source": [
    "(> 1 1)"
   ]
  },
  {
   "cell_type": "code",
   "execution_count": 21,
   "id": "prompt-europe",
   "metadata": {},
   "outputs": [
    {
     "data": {
      "text/plain": [
       "true"
      ]
     },
     "execution_count": 21,
     "metadata": {},
     "output_type": "execute_result"
    }
   ],
   "source": [
    "(>= 1 1)"
   ]
  },
  {
   "cell_type": "code",
   "execution_count": 22,
   "id": "known-channels",
   "metadata": {},
   "outputs": [
    {
     "data": {
      "text/plain": [
       "true"
      ]
     },
     "execution_count": 22,
     "metadata": {},
     "output_type": "execute_result"
    }
   ],
   "source": [
    "(= \"hi\" \"hi\")"
   ]
  },
  {
   "cell_type": "code",
   "execution_count": 23,
   "id": "iraqi-street",
   "metadata": {},
   "outputs": [
    {
     "data": {
      "text/plain": [
       "false"
      ]
     },
     "execution_count": 23,
     "metadata": {},
     "output_type": "execute_result"
    }
   ],
   "source": [
    "(= \"joe\" \"hi\")"
   ]
  },
  {
   "cell_type": "code",
   "execution_count": 24,
   "id": "animal-change",
   "metadata": {},
   "outputs": [
    {
     "data": {
      "text/plain": [
       "true"
      ]
     },
     "execution_count": 24,
     "metadata": {},
     "output_type": "execute_result"
    }
   ],
   "source": [
    "(not= \"joe\" \"hi\")"
   ]
  },
  {
   "cell_type": "code",
   "execution_count": 25,
   "id": "foster-respect",
   "metadata": {},
   "outputs": [
    {
     "data": {
      "text/plain": [
       "false"
      ]
     },
     "execution_count": 25,
     "metadata": {},
     "output_type": "execute_result"
    }
   ],
   "source": [
    "(not= \"hi\" \"hi\")"
   ]
  },
  {
   "cell_type": "markdown",
   "id": "automatic-substance",
   "metadata": {},
   "source": [
    "# Boolean Algebra"
   ]
  },
  {
   "cell_type": "code",
   "execution_count": 26,
   "id": "outstanding-marketplace",
   "metadata": {},
   "outputs": [
    {
     "data": {
      "text/plain": [
       "false"
      ]
     },
     "execution_count": 26,
     "metadata": {},
     "output_type": "execute_result"
    }
   ],
   "source": [
    "(not true)"
   ]
  },
  {
   "cell_type": "code",
   "execution_count": 27,
   "id": "revised-extreme",
   "metadata": {},
   "outputs": [
    {
     "data": {
      "text/plain": [
       "true"
      ]
     },
     "execution_count": 27,
     "metadata": {},
     "output_type": "execute_result"
    }
   ],
   "source": [
    "(not false)"
   ]
  },
  {
   "cell_type": "code",
   "execution_count": 30,
   "id": "killing-budapest",
   "metadata": {},
   "outputs": [
    {
     "data": {
      "text/plain": [
       "true"
      ]
     },
     "execution_count": 30,
     "metadata": {},
     "output_type": "execute_result"
    }
   ],
   "source": [
    "(not nil)"
   ]
  },
  {
   "cell_type": "code",
   "execution_count": 28,
   "id": "reserved-infection",
   "metadata": {},
   "outputs": [
    {
     "data": {
      "text/plain": [
       "false"
      ]
     },
     "execution_count": 28,
     "metadata": {},
     "output_type": "execute_result"
    }
   ],
   "source": [
    "(and true false)"
   ]
  },
  {
   "cell_type": "code",
   "execution_count": 29,
   "id": "extended-alliance",
   "metadata": {},
   "outputs": [
    {
     "data": {
      "text/plain": [
       "true"
      ]
     },
     "execution_count": 29,
     "metadata": {},
     "output_type": "execute_result"
    }
   ],
   "source": [
    "(and true true)"
   ]
  },
  {
   "cell_type": "code",
   "execution_count": 31,
   "id": "suited-amateur",
   "metadata": {},
   "outputs": [
    {
     "data": {
      "text/plain": [
       "false"
      ]
     },
     "execution_count": 31,
     "metadata": {},
     "output_type": "execute_result"
    }
   ],
   "source": [
    "(or false false)"
   ]
  },
  {
   "cell_type": "code",
   "execution_count": 32,
   "id": "compliant-george",
   "metadata": {},
   "outputs": [
    {
     "data": {
      "text/plain": [
       "true"
      ]
     },
     "execution_count": 32,
     "metadata": {},
     "output_type": "execute_result"
    }
   ],
   "source": [
    "(or true false)"
   ]
  },
  {
   "cell_type": "code",
   "execution_count": null,
   "id": "exact-respect",
   "metadata": {},
   "outputs": [],
   "source": []
  }
 ],
 "metadata": {
  "kernelspec": {
   "display_name": "Clojure (clojupyter=0.3.2=1)",
   "language": "clojure",
   "name": "conda-clojupyter"
  },
  "language_info": {
   "file_extension": ".clj",
   "mimetype": "text/x-clojure",
   "name": "clojure",
   "version": "1.10.1"
  }
 },
 "nbformat": 4,
 "nbformat_minor": 5
}
