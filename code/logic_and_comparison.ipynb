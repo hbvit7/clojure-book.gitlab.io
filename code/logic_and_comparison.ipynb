{
 "cells": [
  {
   "cell_type": "code",
   "execution_count": 3,
   "id": "sticky-campaign",
   "metadata": {},
   "outputs": [
    {
     "data": {
      "text/plain": [
       "#'user/take-umbrella?"
      ]
     },
     "execution_count": 3,
     "metadata": {},
     "output_type": "execute_result"
    }
   ],
   "source": [
    "(defn take-umbrella? [raining?]\n",
    "    (if raining?\n",
    "        (println \"Take umbrella\")))"
   ]
  },
  {
   "cell_type": "code",
   "execution_count": 4,
   "id": "incredible-pitch",
   "metadata": {},
   "outputs": [
    {
     "name": "stdout",
     "output_type": "stream",
     "text": [
      "Take umbrella\n"
     ]
    },
    {
     "data": {
      "text/plain": [
       "nil"
      ]
     },
     "execution_count": 4,
     "metadata": {},
     "output_type": "execute_result"
    }
   ],
   "source": [
    "(take-umbrella? true)"
   ]
  },
  {
   "cell_type": "code",
   "execution_count": 5,
   "id": "accomplished-distribution",
   "metadata": {},
   "outputs": [
    {
     "data": {
      "text/plain": [
       "nil"
      ]
     },
     "execution_count": 5,
     "metadata": {},
     "output_type": "execute_result"
    }
   ],
   "source": [
    "(take-umbrella? false)"
   ]
  },
  {
   "cell_type": "code",
   "execution_count": 6,
   "id": "residential-macro",
   "metadata": {},
   "outputs": [
    {
     "data": {
      "text/plain": [
       "#'user/take-umbrella?"
      ]
     },
     "execution_count": 6,
     "metadata": {},
     "output_type": "execute_result"
    }
   ],
   "source": [
    "(defn take-umbrella? [raining?]\n",
    "    (if raining?\n",
    "        (println \"Take umbrella\")\n",
    "        (println \"The weather is fine\")))"
   ]
  },
  {
   "cell_type": "code",
   "execution_count": 7,
   "id": "smooth-nightmare",
   "metadata": {},
   "outputs": [
    {
     "name": "stdout",
     "output_type": "stream",
     "text": [
      "Take umbrella\n"
     ]
    },
    {
     "data": {
      "text/plain": [
       "nil"
      ]
     },
     "execution_count": 7,
     "metadata": {},
     "output_type": "execute_result"
    }
   ],
   "source": [
    "(take-umbrella? true)"
   ]
  },
  {
   "cell_type": "code",
   "execution_count": 8,
   "id": "growing-religion",
   "metadata": {},
   "outputs": [
    {
     "name": "stdout",
     "output_type": "stream",
     "text": [
      "The weather is fine\n"
     ]
    },
    {
     "data": {
      "text/plain": [
       "nil"
      ]
     },
     "execution_count": 8,
     "metadata": {},
     "output_type": "execute_result"
    }
   ],
   "source": [
    "(take-umbrella? false)"
   ]
  },
  {
   "cell_type": "code",
   "execution_count": 9,
   "id": "serious-arrest",
   "metadata": {},
   "outputs": [
    {
     "data": {
      "text/plain": [
       "#'user/maximum"
      ]
     },
     "execution_count": 9,
     "metadata": {},
     "output_type": "execute_result"
    }
   ],
   "source": [
    "(defn maximum [a b]\n",
    "    (if (> a b)\n",
    "        a b))"
   ]
  },
  {
   "cell_type": "code",
   "execution_count": 10,
   "id": "third-asthma",
   "metadata": {},
   "outputs": [
    {
     "data": {
      "text/plain": [
       "5"
      ]
     },
     "execution_count": 10,
     "metadata": {},
     "output_type": "execute_result"
    }
   ],
   "source": [
    "(maximum 3 5)"
   ]
  },
  {
   "cell_type": "code",
   "execution_count": 11,
   "id": "atmospheric-daisy",
   "metadata": {},
   "outputs": [
    {
     "data": {
      "text/plain": [
       "8"
      ]
     },
     "execution_count": 11,
     "metadata": {},
     "output_type": "execute_result"
    }
   ],
   "source": [
    "(maximum 8 5)"
   ]
  },
  {
   "cell_type": "markdown",
   "id": "integral-drive",
   "metadata": {},
   "source": [
    "# Comparisons"
   ]
  },
  {
   "cell_type": "code",
   "execution_count": 18,
   "id": "sharp-builder",
   "metadata": {},
   "outputs": [
    {
     "data": {
      "text/plain": [
       "false"
      ]
     },
     "execution_count": 18,
     "metadata": {},
     "output_type": "execute_result"
    }
   ],
   "source": [
    "(> 1 2)"
   ]
  },
  {
   "cell_type": "code",
   "execution_count": 19,
   "id": "under-jimmy",
   "metadata": {},
   "outputs": [
    {
     "data": {
      "text/plain": [
       "true"
      ]
     },
     "execution_count": 19,
     "metadata": {},
     "output_type": "execute_result"
    }
   ],
   "source": [
    "(< 1 2)"
   ]
  },
  {
   "cell_type": "code",
   "execution_count": 20,
   "id": "warming-congress",
   "metadata": {},
   "outputs": [
    {
     "data": {
      "text/plain": [
       "false"
      ]
     },
     "execution_count": 20,
     "metadata": {},
     "output_type": "execute_result"
    }
   ],
   "source": [
    "(> 1 1)"
   ]
  },
  {
   "cell_type": "code",
   "execution_count": 21,
   "id": "roman-cocktail",
   "metadata": {},
   "outputs": [
    {
     "data": {
      "text/plain": [
       "true"
      ]
     },
     "execution_count": 21,
     "metadata": {},
     "output_type": "execute_result"
    }
   ],
   "source": [
    "(>= 1 1)"
   ]
  },
  {
   "cell_type": "code",
   "execution_count": 22,
   "id": "subject-plymouth",
   "metadata": {},
   "outputs": [
    {
     "data": {
      "text/plain": [
       "true"
      ]
     },
     "execution_count": 22,
     "metadata": {},
     "output_type": "execute_result"
    }
   ],
   "source": [
    "(= \"hi\" \"hi\")"
   ]
  },
  {
   "cell_type": "code",
   "execution_count": 23,
   "id": "beginning-trademark",
   "metadata": {},
   "outputs": [
    {
     "data": {
      "text/plain": [
       "false"
      ]
     },
     "execution_count": 23,
     "metadata": {},
     "output_type": "execute_result"
    }
   ],
   "source": [
    "(= \"joe\" \"hi\")"
   ]
  },
  {
   "cell_type": "code",
   "execution_count": 24,
   "id": "outer-inclusion",
   "metadata": {},
   "outputs": [
    {
     "data": {
      "text/plain": [
       "true"
      ]
     },
     "execution_count": 24,
     "metadata": {},
     "output_type": "execute_result"
    }
   ],
   "source": [
    "(not= \"joe\" \"hi\")"
   ]
  },
  {
   "cell_type": "code",
   "execution_count": 25,
   "id": "committed-marriage",
   "metadata": {},
   "outputs": [
    {
     "data": {
      "text/plain": [
       "false"
      ]
     },
     "execution_count": 25,
     "metadata": {},
     "output_type": "execute_result"
    }
   ],
   "source": [
    "(not= \"hi\" \"hi\")"
   ]
  },
  {
   "cell_type": "code",
   "execution_count": null,
   "id": "congressional-conservation",
   "metadata": {},
   "outputs": [],
   "source": []
  }
 ],
 "metadata": {
  "kernelspec": {
   "display_name": "Clojure (clojupyter=0.3.2=1)",
   "language": "clojure",
   "name": "conda-clojupyter"
  },
  "language_info": {
   "file_extension": ".clj",
   "mimetype": "text/x-clojure",
   "name": "clojure",
   "version": "1.10.1"
  }
 },
 "nbformat": 4,
 "nbformat_minor": 5
}
