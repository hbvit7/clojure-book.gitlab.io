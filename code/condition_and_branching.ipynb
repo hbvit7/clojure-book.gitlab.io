{
 "cells": [
  {
   "cell_type": "code",
   "execution_count": 1,
   "id": "expensive-diana",
   "metadata": {},
   "outputs": [
    {
     "data": {
      "text/plain": [
       "#'user/spell-number"
      ]
     },
     "execution_count": 1,
     "metadata": {},
     "output_type": "execute_result"
    }
   ],
   "source": [
    "(defn spell-number [number]\n",
    "    (if (= number 1)\n",
    "        \"one\"\n",
    "        \n",
    "        (if (= number 2)\n",
    "            \"two\"\n",
    "            \"I don't know\"\n",
    "        )\n",
    "        \n",
    "    )\n",
    ")"
   ]
  },
  {
   "cell_type": "code",
   "execution_count": 2,
   "id": "yellow-jumping",
   "metadata": {},
   "outputs": [
    {
     "data": {
      "text/plain": [
       "\"I don't know\""
      ]
     },
     "execution_count": 2,
     "metadata": {},
     "output_type": "execute_result"
    }
   ],
   "source": [
    "(spell-number 3)"
   ]
  },
  {
   "cell_type": "code",
   "execution_count": 3,
   "id": "noted-academy",
   "metadata": {},
   "outputs": [
    {
     "data": {
      "text/plain": [
       "\"two\""
      ]
     },
     "execution_count": 3,
     "metadata": {},
     "output_type": "execute_result"
    }
   ],
   "source": [
    "(spell-number 2)"
   ]
  },
  {
   "cell_type": "code",
   "execution_count": 8,
   "id": "defensive-tribe",
   "metadata": {},
   "outputs": [
    {
     "name": "stdout",
     "output_type": "stream",
     "text": [
      "7 is odd\n",
      "which means its not divisible by 2\n"
     ]
    },
    {
     "data": {
      "text/plain": [
       "nil"
      ]
     },
     "execution_count": 8,
     "metadata": {},
     "output_type": "execute_result"
    }
   ],
   "source": [
    "(def number 7) ; change to any number\n",
    "\n",
    "(if (= (rem number 2) 0)\n",
    "    \n",
    "    (do\n",
    "        (println number \"is even\")\n",
    "        (println \"which means its divisible by 2\")\n",
    "    )\n",
    "    \n",
    "    (do\n",
    "        (println number \"is odd\")\n",
    "        (println \"which means its not divisible by 2\")\n",
    "    )\n",
    ")"
   ]
  },
  {
   "cell_type": "code",
   "execution_count": null,
   "id": "ambient-eclipse",
   "metadata": {},
   "outputs": [],
   "source": []
  }
 ],
 "metadata": {
  "kernelspec": {
   "display_name": "Clojure (clojupyter=0.3.2=1)",
   "language": "clojure",
   "name": "conda-clojupyter"
  },
  "language_info": {
   "file_extension": ".clj",
   "mimetype": "text/x-clojure",
   "name": "clojure",
   "version": "1.10.1"
  }
 },
 "nbformat": 4,
 "nbformat_minor": 5
}
