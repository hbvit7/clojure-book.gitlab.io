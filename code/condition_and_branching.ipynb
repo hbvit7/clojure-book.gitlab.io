{
 "cells": [
  {
   "cell_type": "code",
   "execution_count": 11,
   "id": "boring-sleeve",
   "metadata": {},
   "outputs": [
    {
     "name": "stdout",
     "output_type": "stream",
     "text": [
      "its true\n"
     ]
    },
    {
     "data": {
      "text/plain": [
       "nil"
      ]
     },
     "execution_count": 11,
     "metadata": {},
     "output_type": "execute_result"
    }
   ],
   "source": [
    "(if true\n",
    "    (println \"its true\")\n",
    ")"
   ]
  },
  {
   "cell_type": "code",
   "execution_count": 13,
   "id": "radical-asbestos",
   "metadata": {},
   "outputs": [
    {
     "name": "stdout",
     "output_type": "stream",
     "text": [
      "its false\n"
     ]
    },
    {
     "data": {
      "text/plain": [
       "nil"
      ]
     },
     "execution_count": 13,
     "metadata": {},
     "output_type": "execute_result"
    }
   ],
   "source": [
    "(if false\n",
    "    nil\n",
    "    (println \"its false\")\n",
    ")"
   ]
  },
  {
   "cell_type": "code",
   "execution_count": 17,
   "id": "elementary-bibliography",
   "metadata": {},
   "outputs": [
    {
     "name": "stdout",
     "output_type": "stream",
     "text": [
      "its true\n"
     ]
    },
    {
     "data": {
      "text/plain": [
       "nil"
      ]
     },
     "execution_count": 17,
     "metadata": {},
     "output_type": "execute_result"
    }
   ],
   "source": [
    "(def boolean-variable true) ; change it to false and see what happens\n",
    "\n",
    "(if boolean-variable\n",
    "    (println \"its true\")\n",
    "    (println \"its false\")\n",
    ")"
   ]
  },
  {
   "cell_type": "code",
   "execution_count": 10,
   "id": "distant-referral",
   "metadata": {},
   "outputs": [
    {
     "name": "stdout",
     "output_type": "stream",
     "text": [
      "5 is greater\n"
     ]
    },
    {
     "data": {
      "text/plain": [
       "nil"
      ]
     },
     "execution_count": 10,
     "metadata": {},
     "output_type": "execute_result"
    }
   ],
   "source": [
    "(def a 5)\n",
    "(def b 3)\n",
    "\n",
    "(if (> a b)\n",
    "    (println a \"is greater\")\n",
    "    (println b \"is greater\")\n",
    ")"
   ]
  },
  {
   "cell_type": "code",
   "execution_count": 24,
   "id": "endangered-blink",
   "metadata": {},
   "outputs": [
    {
     "name": "stdout",
     "output_type": "stream",
     "text": [
      "c is the greatest\n"
     ]
    },
    {
     "data": {
      "text/plain": [
       "nil"
      ]
     },
     "execution_count": 24,
     "metadata": {},
     "output_type": "execute_result"
    }
   ],
   "source": [
    "(def a 3)\n",
    "(def b 5)\n",
    "(def c 7)\n",
    "\n",
    "(if (and (> a b) (> a c))\n",
    "    (println \"a is the greatest\")\n",
    "    \n",
    "    (if (and (> b a) (> b c))\n",
    "        (println \"b is the greatest\")\n",
    "        \n",
    "        (if (and (> c a) (> c b))\n",
    "            (println \"c is the greatest\")\n",
    "            \n",
    "            (println \"some variables may have equal values\")\n",
    "        )\n",
    "    )\n",
    ")"
   ]
  },
  {
   "cell_type": "code",
   "execution_count": 8,
   "id": "selective-meter",
   "metadata": {},
   "outputs": [
    {
     "name": "stdout",
     "output_type": "stream",
     "text": [
      "7 is odd\n",
      "which means its not divisible by 2\n"
     ]
    },
    {
     "data": {
      "text/plain": [
       "nil"
      ]
     },
     "execution_count": 8,
     "metadata": {},
     "output_type": "execute_result"
    }
   ],
   "source": [
    "(def number 7) ; change to any number\n",
    "\n",
    "(if (= (rem number 2) 0)\n",
    "    \n",
    "    (do\n",
    "        (println number \"is even\")\n",
    "        (println \"which means its divisible by 2\")\n",
    "    )\n",
    "    \n",
    "    (do\n",
    "        (println number \"is odd\")\n",
    "        (println \"which means its not divisible by 2\")\n",
    "    )\n",
    ")"
   ]
  },
  {
   "cell_type": "code",
   "execution_count": 23,
   "id": "asian-girlfriend",
   "metadata": {},
   "outputs": [
    {
     "data": {
      "text/plain": [
       "\"one\""
      ]
     },
     "execution_count": 23,
     "metadata": {},
     "output_type": "execute_result"
    }
   ],
   "source": [
    "(def number 1)\n",
    "\n",
    "(if (= number 1)\n",
    "    \"one\"\n",
    "\n",
    "    (if (= number 2)\n",
    "        \"two\"\n",
    "        \"I don't know\"\n",
    "    )\n",
    "\n",
    ")"
   ]
  },
  {
   "cell_type": "code",
   "execution_count": 27,
   "id": "sunrise-preserve",
   "metadata": {},
   "outputs": [
    {
     "name": "stdout",
     "output_type": "stream",
     "text": [
      "this prints\n",
      "this also prints because when does not have false statement\n"
     ]
    },
    {
     "data": {
      "text/plain": [
       "nil"
      ]
     },
     "execution_count": 27,
     "metadata": {},
     "output_type": "execute_result"
    }
   ],
   "source": [
    "(def boolean-value true) ; change it to false and see what happens\n",
    "\n",
    "(when boolean-value\n",
    "    (println \"this prints\")\n",
    "    (println \"this also prints because when does not have false statement\")\n",
    ")"
   ]
  },
  {
   "cell_type": "code",
   "execution_count": 29,
   "id": "refined-oriental",
   "metadata": {},
   "outputs": [
    {
     "data": {
      "text/plain": [
       "\"two\""
      ]
     },
     "execution_count": 29,
     "metadata": {},
     "output_type": "execute_result"
    }
   ],
   "source": [
    "(def number 2)\n",
    "\n",
    "(cond\n",
    "    (= number 1) \"one\"\n",
    "    (= number 2) \"two\"\n",
    ")"
   ]
  },
  {
   "cell_type": "code",
   "execution_count": 30,
   "id": "collected-magic",
   "metadata": {},
   "outputs": [
    {
     "data": {
      "text/plain": [
       "\"I don't know\""
      ]
     },
     "execution_count": 30,
     "metadata": {},
     "output_type": "execute_result"
    }
   ],
   "source": [
    "(def number 3)\n",
    "\n",
    "(cond\n",
    "    (= number 1) \"one\"\n",
    "    (= number 2) \"two\"\n",
    "    :else \"I don't know\"\n",
    ")"
   ]
  },
  {
   "cell_type": "code",
   "execution_count": 33,
   "id": "sophisticated-mentor",
   "metadata": {},
   "outputs": [
    {
     "data": {
      "text/plain": [
       "\"one\""
      ]
     },
     "execution_count": 33,
     "metadata": {},
     "output_type": "execute_result"
    }
   ],
   "source": [
    "(def number 1)\n",
    "\n",
    "(case number\n",
    "    1 \"one\"\n",
    "    2 \"two\"\n",
    "    \"I don't know\"\n",
    ")"
   ]
  },
  {
   "cell_type": "code",
   "execution_count": null,
   "id": "accurate-union",
   "metadata": {},
   "outputs": [],
   "source": []
  }
 ],
 "metadata": {
  "kernelspec": {
   "display_name": "Clojure (clojupyter=0.3.2=1)",
   "language": "clojure",
   "name": "conda-clojupyter"
  },
  "language_info": {
   "file_extension": ".clj",
   "mimetype": "text/x-clojure",
   "name": "clojure",
   "version": "1.10.1"
  }
 },
 "nbformat": 4,
 "nbformat_minor": 5
}
